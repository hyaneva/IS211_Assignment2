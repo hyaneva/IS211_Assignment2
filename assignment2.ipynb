{
 "cells": [
  {
   "cell_type": "code",
   "execution_count": 13,
   "id": "3eaa0164",
   "metadata": {},
   "outputs": [],
   "source": [
    "import argparse\n",
    "import urllib.request\n",
    "import logging\n",
    "import csv\n",
    "from datetime import datetime\n",
    "\n",
    "\n",
    "\n",
    "\n",
    "#Downloading the file and converting it from bytes to a string with decode()\n",
    "\n",
    "def downloadData(url):\n",
    "    with urllib.request.urlopen(url) as response:\n",
    "        the_file = response.read().decode('utf-8')     \n",
    "    return the_file    \n",
    "    \n",
    "    "
   ]
  },
  {
   "cell_type": "code",
   "execution_count": null,
   "id": "04fa76c6",
   "metadata": {
    "scrolled": false
   },
   "outputs": [],
   "source": []
  },
  {
   "cell_type": "code",
   "execution_count": 14,
   "id": "09a9ae7a",
   "metadata": {},
   "outputs": [],
   "source": [
    "#Splitting the csv file and adding the data to a dictionary\n",
    "#Stores date as a datetime object not string\n",
    "#Includes logger which saves error messages caused by lines that couldn't be added due to incorrect formatting\n",
    "\n",
    "\n",
    "def processData(file, logger):\n",
    "    \n",
    "    birthday_dict = {}\n",
    "    split_by_line = file.strip().split(\"\\n\")\n",
    "    \n",
    "  \n",
    "\n",
    "\n",
    "    \n",
    "    for linenum, line in enumerate(split_by_line[1:], start=2):         #Excludes the first line of the dictionary since those are just column names\n",
    "        words = line.split(\",\")\n",
    "        if len(words) == 3:                #Making sure line contains exactly three values for correct formatting\n",
    "            id, name, birthday = words\n",
    "            try:\n",
    "                id = int(id)\n",
    "                datetime_birthday = datetime.strptime(birthday, \"%d/%m/%Y\").date()\n",
    "                birthday_dict[id] = name, datetime_birthday\n",
    "            \n",
    "            except ValueError:\n",
    "                logger.error(f\"Error processing line #{linenum} for ID #{id}\")\n",
    "        \n",
    "    return birthday_dict\n",
    "    \n",
    "    \n",
    "    "
   ]
  },
  {
   "cell_type": "code",
   "execution_count": null,
   "id": "c1c3d1ff",
   "metadata": {},
   "outputs": [],
   "source": []
  },
  {
   "cell_type": "code",
   "execution_count": 15,
   "id": "7169b1d0",
   "metadata": {},
   "outputs": [],
   "source": [
    "def displayPerson(id, downloaded_data):\n",
    "    \n",
    "    if id in downloaded_data:\n",
    "        name, date = downloaded_data[id]\n",
    "        print(f\"Person #{id} is {name} with a birthday of {date}.\")\n",
    "    else:\n",
    "        print(\"No user found with that ID.\")   "
   ]
  },
  {
   "cell_type": "code",
   "execution_count": null,
   "id": "71f2d613",
   "metadata": {},
   "outputs": [],
   "source": []
  },
  {
   "cell_type": "code",
   "execution_count": 16,
   "id": "14a5c706",
   "metadata": {
    "scrolled": true
   },
   "outputs": [
    {
     "name": "stdout",
     "output_type": "stream",
     "text": [
      "Running main with URL = https://s3.amazonaws.com/cuny-is211-spring2015/birthdays100.csv ...\n",
      "Enter an ID to lookup (0 or negative ID to exit): 0\n",
      "Exiting program.\n"
     ]
    }
   ],
   "source": [
    "#\n",
    "\n",
    "#Main funciton that runs the program\n",
    "\n",
    "\n",
    "import sys   #test\n",
    "import argparse\n",
    "\n",
    "def main(url):\n",
    "    print(f\"Running main with URL = {url} ...\")\n",
    "    \n",
    "\n",
    "    logger = logging.getLogger(\"assignment2\")\n",
    "    logging.basicConfig(filename='error.log',\n",
    "                            level=logging.ERROR,\n",
    "                            format='%(asctime)s %(message)s',\n",
    "                            datefmt='%m/%d/%Y %I:%M:%S %p')\n",
    "\n",
    "    try:\n",
    "        csv_data = downloadData(url)   #Downloads data with whichever url was put in\n",
    "    except Exception as e:\n",
    "        print(f\"Error downloading data: {e}\")\n",
    "        return\n",
    "    \n",
    "    personData = processData(csv_data, logger)\n",
    "    \n",
    "    \n",
    "    \n",
    "    while True:\n",
    "        try:\n",
    "            user_id = int(input(\"Enter an ID to lookup (0 or negative ID to exit): \"))\n",
    "            \n",
    "            if user_id <= 0:\n",
    "                print(\"Exiting program.\")\n",
    "                break\n",
    "        \n",
    "            displayPerson(user_id, personData)\n",
    "        \n",
    "        except ValueError:\n",
    "            print(\"Oops! Invalid input. Please enter a valid number.\")\n",
    "            continue\n",
    "\n",
    "if __name__ == \"__main__\":\n",
    "    \n",
    "    parser = argparse.ArgumentParser()\n",
    "    parser.add_argument(\"--url\", help=\"URL to the datafile\", type=str, required=True)   #Makes program takes --url string parameter \n",
    "    \n",
    "    # Simulate command-line input (you can change the URL as needed) test\n",
    "    sys.argv = ['script_name', '--url', 'https://s3.amazonaws.com/cuny-is211-spring2015/birthdays100.csv']\n",
    "    \n",
    "    args = parser.parse_args()\n",
    "    main(args.url)"
   ]
  },
  {
   "cell_type": "code",
   "execution_count": null,
   "id": "3bf1f303",
   "metadata": {},
   "outputs": [],
   "source": []
  },
  {
   "cell_type": "code",
   "execution_count": null,
   "id": "5219e13e",
   "metadata": {},
   "outputs": [],
   "source": []
  },
  {
   "cell_type": "code",
   "execution_count": null,
   "id": "996ca71d",
   "metadata": {},
   "outputs": [],
   "source": []
  },
  {
   "cell_type": "code",
   "execution_count": null,
   "id": "3a73058c",
   "metadata": {},
   "outputs": [],
   "source": []
  },
  {
   "cell_type": "code",
   "execution_count": null,
   "id": "cbb5e368",
   "metadata": {},
   "outputs": [],
   "source": []
  },
  {
   "cell_type": "code",
   "execution_count": null,
   "id": "f6f37277",
   "metadata": {},
   "outputs": [],
   "source": []
  },
  {
   "cell_type": "code",
   "execution_count": null,
   "id": "438b5eaf",
   "metadata": {},
   "outputs": [],
   "source": []
  }
 ],
 "metadata": {
  "kernelspec": {
   "display_name": "Python 3 (ipykernel)",
   "language": "python",
   "name": "python3"
  },
  "language_info": {
   "codemirror_mode": {
    "name": "ipython",
    "version": 3
   },
   "file_extension": ".py",
   "mimetype": "text/x-python",
   "name": "python",
   "nbconvert_exporter": "python",
   "pygments_lexer": "ipython3",
   "version": "3.7.0"
  }
 },
 "nbformat": 4,
 "nbformat_minor": 5
}
